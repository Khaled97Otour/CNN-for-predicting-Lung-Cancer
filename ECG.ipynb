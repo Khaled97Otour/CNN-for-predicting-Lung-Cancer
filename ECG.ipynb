{
  "cells": [
    {
      "cell_type": "markdown",
      "metadata": {
        "id": "view-in-github",
        "colab_type": "text"
      },
      "source": [
        "<a href=\"https://colab.research.google.com/github/Khaled97Otour/Computer-aid-diagnostic-system-to-predict-and-extract-Lung-Cancer/blob/main/ECG.ipynb\" target=\"_parent\"><img src=\"https://colab.research.google.com/assets/colab-badge.svg\" alt=\"Open In Colab\"/></a>"
      ]
    },
    {
      "cell_type": "code",
      "execution_count": 1,
      "metadata": {
        "colab": {
          "base_uri": "https://localhost:8080/"
        },
        "id": "7__HF60r9YzR",
        "outputId": "0ee54b24-3ccb-4bfe-b05c-de73b9700cf7"
      },
      "outputs": [
        {
          "output_type": "stream",
          "name": "stdout",
          "text": [
            "Requirement already satisfied: keras in /usr/local/lib/python3.7/dist-packages (2.7.0)\n"
          ]
        }
      ],
      "source": [
        "pip install keras"
      ]
    },
    {
      "cell_type": "code",
      "execution_count": 2,
      "metadata": {
        "colab": {
          "base_uri": "https://localhost:8080/"
        },
        "id": "gFuj55vj9cmX",
        "outputId": "9abb3c55-b479-4e64-c9c7-e907ebf2fb6f"
      },
      "outputs": [
        {
          "output_type": "stream",
          "name": "stdout",
          "text": [
            "Requirement already satisfied: tensorflow in /usr/local/lib/python3.7/dist-packages (2.7.0)\n",
            "Requirement already satisfied: protobuf>=3.9.2 in /usr/local/lib/python3.7/dist-packages (from tensorflow) (3.17.3)\n",
            "Requirement already satisfied: libclang>=9.0.1 in /usr/local/lib/python3.7/dist-packages (from tensorflow) (12.0.0)\n",
            "Requirement already satisfied: keras-preprocessing>=1.1.1 in /usr/local/lib/python3.7/dist-packages (from tensorflow) (1.1.2)\n",
            "Requirement already satisfied: wheel<1.0,>=0.32.0 in /usr/local/lib/python3.7/dist-packages (from tensorflow) (0.37.0)\n",
            "Requirement already satisfied: tensorflow-estimator<2.8,~=2.7.0rc0 in /usr/local/lib/python3.7/dist-packages (from tensorflow) (2.7.0)\n",
            "Requirement already satisfied: google-pasta>=0.1.1 in /usr/local/lib/python3.7/dist-packages (from tensorflow) (0.2.0)\n",
            "Requirement already satisfied: tensorboard~=2.6 in /usr/local/lib/python3.7/dist-packages (from tensorflow) (2.7.0)\n",
            "Requirement already satisfied: h5py>=2.9.0 in /usr/local/lib/python3.7/dist-packages (from tensorflow) (3.1.0)\n",
            "Requirement already satisfied: wrapt>=1.11.0 in /usr/local/lib/python3.7/dist-packages (from tensorflow) (1.13.3)\n",
            "Requirement already satisfied: flatbuffers<3.0,>=1.12 in /usr/local/lib/python3.7/dist-packages (from tensorflow) (2.0)\n",
            "Requirement already satisfied: typing-extensions>=3.6.6 in /usr/local/lib/python3.7/dist-packages (from tensorflow) (3.10.0.2)\n",
            "Requirement already satisfied: numpy>=1.14.5 in /usr/local/lib/python3.7/dist-packages (from tensorflow) (1.19.5)\n",
            "Requirement already satisfied: gast<0.5.0,>=0.2.1 in /usr/local/lib/python3.7/dist-packages (from tensorflow) (0.4.0)\n",
            "Requirement already satisfied: astunparse>=1.6.0 in /usr/local/lib/python3.7/dist-packages (from tensorflow) (1.6.3)\n",
            "Requirement already satisfied: grpcio<2.0,>=1.24.3 in /usr/local/lib/python3.7/dist-packages (from tensorflow) (1.42.0)\n",
            "Requirement already satisfied: keras<2.8,>=2.7.0rc0 in /usr/local/lib/python3.7/dist-packages (from tensorflow) (2.7.0)\n",
            "Requirement already satisfied: opt-einsum>=2.3.2 in /usr/local/lib/python3.7/dist-packages (from tensorflow) (3.3.0)\n",
            "Requirement already satisfied: six>=1.12.0 in /usr/local/lib/python3.7/dist-packages (from tensorflow) (1.15.0)\n",
            "Requirement already satisfied: tensorflow-io-gcs-filesystem>=0.21.0 in /usr/local/lib/python3.7/dist-packages (from tensorflow) (0.22.0)\n",
            "Requirement already satisfied: termcolor>=1.1.0 in /usr/local/lib/python3.7/dist-packages (from tensorflow) (1.1.0)\n",
            "Requirement already satisfied: absl-py>=0.4.0 in /usr/local/lib/python3.7/dist-packages (from tensorflow) (0.12.0)\n",
            "Requirement already satisfied: cached-property in /usr/local/lib/python3.7/dist-packages (from h5py>=2.9.0->tensorflow) (1.5.2)\n",
            "Requirement already satisfied: google-auth-oauthlib<0.5,>=0.4.1 in /usr/local/lib/python3.7/dist-packages (from tensorboard~=2.6->tensorflow) (0.4.6)\n",
            "Requirement already satisfied: setuptools>=41.0.0 in /usr/local/lib/python3.7/dist-packages (from tensorboard~=2.6->tensorflow) (57.4.0)\n",
            "Requirement already satisfied: tensorboard-plugin-wit>=1.6.0 in /usr/local/lib/python3.7/dist-packages (from tensorboard~=2.6->tensorflow) (1.8.0)\n",
            "Requirement already satisfied: werkzeug>=0.11.15 in /usr/local/lib/python3.7/dist-packages (from tensorboard~=2.6->tensorflow) (1.0.1)\n",
            "Requirement already satisfied: google-auth<3,>=1.6.3 in /usr/local/lib/python3.7/dist-packages (from tensorboard~=2.6->tensorflow) (1.35.0)\n",
            "Requirement already satisfied: requests<3,>=2.21.0 in /usr/local/lib/python3.7/dist-packages (from tensorboard~=2.6->tensorflow) (2.23.0)\n",
            "Requirement already satisfied: tensorboard-data-server<0.7.0,>=0.6.0 in /usr/local/lib/python3.7/dist-packages (from tensorboard~=2.6->tensorflow) (0.6.1)\n",
            "Requirement already satisfied: markdown>=2.6.8 in /usr/local/lib/python3.7/dist-packages (from tensorboard~=2.6->tensorflow) (3.3.6)\n",
            "Requirement already satisfied: cachetools<5.0,>=2.0.0 in /usr/local/lib/python3.7/dist-packages (from google-auth<3,>=1.6.3->tensorboard~=2.6->tensorflow) (4.2.4)\n",
            "Requirement already satisfied: pyasn1-modules>=0.2.1 in /usr/local/lib/python3.7/dist-packages (from google-auth<3,>=1.6.3->tensorboard~=2.6->tensorflow) (0.2.8)\n",
            "Requirement already satisfied: rsa<5,>=3.1.4 in /usr/local/lib/python3.7/dist-packages (from google-auth<3,>=1.6.3->tensorboard~=2.6->tensorflow) (4.8)\n",
            "Requirement already satisfied: requests-oauthlib>=0.7.0 in /usr/local/lib/python3.7/dist-packages (from google-auth-oauthlib<0.5,>=0.4.1->tensorboard~=2.6->tensorflow) (1.3.0)\n",
            "Requirement already satisfied: importlib-metadata>=4.4 in /usr/local/lib/python3.7/dist-packages (from markdown>=2.6.8->tensorboard~=2.6->tensorflow) (4.8.2)\n",
            "Requirement already satisfied: zipp>=0.5 in /usr/local/lib/python3.7/dist-packages (from importlib-metadata>=4.4->markdown>=2.6.8->tensorboard~=2.6->tensorflow) (3.6.0)\n",
            "Requirement already satisfied: pyasn1<0.5.0,>=0.4.6 in /usr/local/lib/python3.7/dist-packages (from pyasn1-modules>=0.2.1->google-auth<3,>=1.6.3->tensorboard~=2.6->tensorflow) (0.4.8)\n",
            "Requirement already satisfied: chardet<4,>=3.0.2 in /usr/local/lib/python3.7/dist-packages (from requests<3,>=2.21.0->tensorboard~=2.6->tensorflow) (3.0.4)\n",
            "Requirement already satisfied: idna<3,>=2.5 in /usr/local/lib/python3.7/dist-packages (from requests<3,>=2.21.0->tensorboard~=2.6->tensorflow) (2.10)\n",
            "Requirement already satisfied: urllib3!=1.25.0,!=1.25.1,<1.26,>=1.21.1 in /usr/local/lib/python3.7/dist-packages (from requests<3,>=2.21.0->tensorboard~=2.6->tensorflow) (1.24.3)\n",
            "Requirement already satisfied: certifi>=2017.4.17 in /usr/local/lib/python3.7/dist-packages (from requests<3,>=2.21.0->tensorboard~=2.6->tensorflow) (2021.10.8)\n",
            "Requirement already satisfied: oauthlib>=3.0.0 in /usr/local/lib/python3.7/dist-packages (from requests-oauthlib>=0.7.0->google-auth-oauthlib<0.5,>=0.4.1->tensorboard~=2.6->tensorflow) (3.1.1)\n"
          ]
        }
      ],
      "source": [
        "pip install tensorflow"
      ]
    },
    {
      "cell_type": "code",
      "execution_count": 3,
      "metadata": {
        "id": "AeWXQVOZXOPM"
      },
      "outputs": [],
      "source": [
        "import keras\n",
        "import tensorflow as tf\n",
        "from keras.models import Sequential\n",
        "from keras.models import load_model\n",
        "from keras.layers import Conv1D, BatchNormalization,MaxPool1D, GlobalMaxPool1D\n",
        "from keras.layers import TimeDistributed, GRU, Dense, Dropout, Masking, Embedding, LSTM ,Flatten\n",
        "from keras.layers import Input, Conv1D, DepthwiseConv1D,\\\n",
        "     Dense, Concatenate, Add, ReLU, BatchNormalization, AvgPool1D, \\\n",
        "     MaxPool1D, GlobalAvgPool1D, Reshape, Permute, Lambda, Activation,RepeatVector\n",
        "from keras import layers\n",
        "from keras import models\n",
        "import keras.backend as K\n",
        "from keras.models import Model\n",
        "import keras.backend as K\n",
        "import random\n",
        "import math\n",
        "import numpy as np\n",
        "import pandas as pd\n",
        "import matplotlib.pyplot as plt\n",
        "import scipy, matplotlib\n",
        "import csv\n",
        "from scipy.fft import ifft,rfft"
      ]
    },
    {
      "cell_type": "code",
      "execution_count": 4,
      "metadata": {
        "colab": {
          "base_uri": "https://localhost:8080/"
        },
        "id": "2j5kbrHtlpCU",
        "outputId": "d6e7a0e3-e5d7-437b-87d4-ae5bbce9c278"
      },
      "outputs": [
        {
          "output_type": "stream",
          "name": "stdout",
          "text": [
            "Drive already mounted at /content/drive; to attempt to forcibly remount, call drive.mount(\"/content/drive\", force_remount=True).\n"
          ]
        }
      ],
      "source": [
        "from google.colab import drive\n",
        "drive.mount('/content/drive')"
      ]
    },
    {
      "cell_type": "code",
      "execution_count": 5,
      "metadata": {
        "id": "cslJwhqIFl5x"
      },
      "outputs": [],
      "source": [
        "def Import_data(x,y):\n",
        "  # read the files and build a dataset \n",
        "  # after processing the input signals\n",
        "  rows = []\n",
        "  rows1= []\n",
        "  for row in x:\n",
        "    rows.append(row)\n",
        "  for row1 in y:\n",
        "    rows1.append(row1)\n",
        "  raw_normal_signals=np.asarray(rows)\n",
        "  raw_Abnormal_signals=np.asarray(rows1)\n",
        "  return raw_normal_signals,raw_Abnormal_signals\n"
      ]
    },
    {
      "cell_type": "code",
      "execution_count": 6,
      "metadata": {
        "id": "KKPJQPN4lUXh"
      },
      "outputs": [],
      "source": [
        "def signal_pre_processing(x,y):\n",
        "  # in this function I use for loops to help me filtering the signals and delete the high frequnce noice\n",
        "  # taking in mind the range of the signals and the length \n",
        "  s1=[]\n",
        "  s2=[]\n",
        "  l=x.shape[0]\n",
        "  ll=y.shape[0]\n",
        "  for i in range(l):\n",
        "    b=scipy.fft.fft (x[i])\n",
        "    for i in range(188):\n",
        "      if b[i].real >=8:\n",
        "        b[i]=0\n",
        "      if b[i].real <=-8:\n",
        "        b[i]=0\n",
        "    b=scipy.fft.ifft(b)\n",
        "    s1.append(b)\n",
        "  for i in range(ll):\n",
        "    B=scipy.fft.fft (y[i])\n",
        "    for i in range(188) :\n",
        "      if B[i].real >=8:\n",
        "        B[i]=0\n",
        "      if B[i].real <=-8:\n",
        "        B[i]=0\n",
        "    B=scipy.fft.ifft(B)\n",
        "    s2.append(B)\n",
        "  Normal_signals=np.asarray(s1)\n",
        "  AbNormal_signals=np.asarray(s2)\n",
        "  return Normal_signals,AbNormal_signals"
      ]
    },
    {
      "cell_type": "code",
      "execution_count": 7,
      "metadata": {
        "id": "iQuu-Zy8lfrA"
      },
      "outputs": [],
      "source": [
        "def Do_dataset(x,y):\n",
        "  # building dataset after cleaning all the signals and establish a dataframe as well as define a colume of labels.\n",
        "  l=x.shape[0]\n",
        "  ll=y.shape[0]\n",
        "  number=[]\n",
        "  signals=[]\n",
        "  for i in range(l):\n",
        "    signals.append(x[i])\n",
        "    number.append(0)\n",
        "  for i in range(ll):\n",
        "    signals.append(y[i])\n",
        "    number.append(1)\n",
        "  numbers=np.asarray(number)\n",
        "  # constructe dataset using data frame \n",
        "  my_series=pd.Series(data=signals,name='signals')\n",
        "  data=pd.DataFrame(my_series)\n",
        "  data['label']=numbers\n",
        "  return data"
      ]
    },
    {
      "cell_type": "code",
      "execution_count": 8,
      "metadata": {
        "id": "a1t9vyzqKZxS"
      },
      "outputs": [],
      "source": [
        "def load_signal_label(x):\n",
        "  signals = []\n",
        "  label = []\n",
        "  for i in range(len(x)):\n",
        "    indexed_data = x.iloc[i]\n",
        "    signals.append(indexed_data['signals'])\n",
        "    label.append(indexed_data['label'])\n",
        "  signals = np.asarray(signals)\n",
        "  label = np.asarray(label)\n",
        "  return signals, label"
      ]
    },
    {
      "cell_type": "code",
      "execution_count": 9,
      "metadata": {
        "id": "O1VEdFiBIuf5"
      },
      "outputs": [],
      "source": [
        "def data_gen(x,y):\n",
        "  batch_signals = []\n",
        "  batch_label = []\n",
        "  for i in range(len(x)):\n",
        "    sig=x[i]\n",
        "    sig = np.expand_dims(sig, axis=-1)\n",
        "    batch_signals.append(sig)\n",
        "    labell =y[i]\n",
        "    batch_label.append(labell)\n",
        "  A=np.asarray(batch_signals)\n",
        "  B=np.asarray(batch_label)\n",
        "  return A, B"
      ]
    },
    {
      "cell_type": "code",
      "execution_count": 10,
      "metadata": {
        "id": "lJcZAKv4jNuV"
      },
      "outputs": [],
      "source": [
        "file = open(r'/content/drive/MyDrive/Colab Notebooks/ECG Signal /ptbdb_normal.csv')\n",
        "csvreader = csv.reader(file)\n",
        "file = open(r'/content/drive/MyDrive/Colab Notebooks/ECG Signal /ptbdb_abnormal.csv')\n",
        "csvreader1 = csv.reader(file)"
      ]
    },
    {
      "cell_type": "code",
      "execution_count": 11,
      "metadata": {
        "id": "aWOvdTA8EBdI"
      },
      "outputs": [],
      "source": [
        "Normal,AbNormal= Import_data(csvreader,csvreader1)"
      ]
    },
    {
      "cell_type": "code",
      "execution_count": 12,
      "metadata": {
        "id": "cJpXNPX3D7u5"
      },
      "outputs": [],
      "source": [
        "normal,Abnormal= signal_pre_processing(Normal,AbNormal)"
      ]
    },
    {
      "cell_type": "code",
      "execution_count": 13,
      "metadata": {
        "id": "diUDEwUKEAqr"
      },
      "outputs": [],
      "source": [
        "Dataset= Do_dataset(normal,Abnormal)\n",
        "Signals, label= load_signal_label(Dataset)\n",
        "xx_train_gen, yy_train_gen = data_gen(Signals, label)"
      ]
    },
    {
      "cell_type": "code",
      "execution_count": 14,
      "metadata": {
        "colab": {
          "base_uri": "https://localhost:8080/",
          "height": 424
        },
        "id": "XeLVRJk5IlmU",
        "outputId": "2e510f6d-094b-42b7-c647-b889f48aa2fd"
      },
      "outputs": [
        {
          "output_type": "execute_result",
          "data": {
            "text/html": [
              "<div>\n",
              "<style scoped>\n",
              "    .dataframe tbody tr th:only-of-type {\n",
              "        vertical-align: middle;\n",
              "    }\n",
              "\n",
              "    .dataframe tbody tr th {\n",
              "        vertical-align: top;\n",
              "    }\n",
              "\n",
              "    .dataframe thead th {\n",
              "        text-align: right;\n",
              "    }\n",
              "</style>\n",
              "<table border=\"1\" class=\"dataframe\">\n",
              "  <thead>\n",
              "    <tr style=\"text-align: right;\">\n",
              "      <th></th>\n",
              "      <th>signals</th>\n",
              "      <th>label</th>\n",
              "    </tr>\n",
              "  </thead>\n",
              "  <tbody>\n",
              "    <tr>\n",
              "      <th>0</th>\n",
              "      <td>[(0.8814269457646504+0j), (0.781751111585726+0...</td>\n",
              "      <td>0</td>\n",
              "    </tr>\n",
              "    <tr>\n",
              "      <th>1</th>\n",
              "      <td>[(0.7626284556067053+0j), (0.5573099450743262+...</td>\n",
              "      <td>0</td>\n",
              "    </tr>\n",
              "    <tr>\n",
              "      <th>2</th>\n",
              "      <td>[(0.746369916851573+0j), (0.628823060448222+0j...</td>\n",
              "      <td>0</td>\n",
              "    </tr>\n",
              "    <tr>\n",
              "      <th>3</th>\n",
              "      <td>[(0.9268670122267956+0j), (0.4057603518607373+...</td>\n",
              "      <td>0</td>\n",
              "    </tr>\n",
              "    <tr>\n",
              "      <th>4</th>\n",
              "      <td>[(0.8985901580172333+0j), (0.7658285007792267+...</td>\n",
              "      <td>0</td>\n",
              "    </tr>\n",
              "    <tr>\n",
              "      <th>...</th>\n",
              "      <td>...</td>\n",
              "      <td>...</td>\n",
              "    </tr>\n",
              "    <tr>\n",
              "      <th>14547</th>\n",
              "      <td>[(0.8376090676923766+0j), (0.8562004120489136+...</td>\n",
              "      <td>1</td>\n",
              "    </tr>\n",
              "    <tr>\n",
              "      <th>14548</th>\n",
              "      <td>[(0.5157839059733815+0j), (0.5206110217705371+...</td>\n",
              "      <td>1</td>\n",
              "    </tr>\n",
              "    <tr>\n",
              "      <th>14549</th>\n",
              "      <td>[(0.760295179981915+0j), (0.6248058047966818+0...</td>\n",
              "      <td>1</td>\n",
              "    </tr>\n",
              "    <tr>\n",
              "      <th>14550</th>\n",
              "      <td>[(0.7209435549110979+0j), (0.7022499980736757+...</td>\n",
              "      <td>1</td>\n",
              "    </tr>\n",
              "    <tr>\n",
              "      <th>14551</th>\n",
              "      <td>[(0.9137690492504413+0j), (0.6162003703945457+...</td>\n",
              "      <td>1</td>\n",
              "    </tr>\n",
              "  </tbody>\n",
              "</table>\n",
              "<p>14552 rows × 2 columns</p>\n",
              "</div>"
            ],
            "text/plain": [
              "                                                 signals  label\n",
              "0      [(0.8814269457646504+0j), (0.781751111585726+0...      0\n",
              "1      [(0.7626284556067053+0j), (0.5573099450743262+...      0\n",
              "2      [(0.746369916851573+0j), (0.628823060448222+0j...      0\n",
              "3      [(0.9268670122267956+0j), (0.4057603518607373+...      0\n",
              "4      [(0.8985901580172333+0j), (0.7658285007792267+...      0\n",
              "...                                                  ...    ...\n",
              "14547  [(0.8376090676923766+0j), (0.8562004120489136+...      1\n",
              "14548  [(0.5157839059733815+0j), (0.5206110217705371+...      1\n",
              "14549  [(0.760295179981915+0j), (0.6248058047966818+0...      1\n",
              "14550  [(0.7209435549110979+0j), (0.7022499980736757+...      1\n",
              "14551  [(0.9137690492504413+0j), (0.6162003703945457+...      1\n",
              "\n",
              "[14552 rows x 2 columns]"
            ]
          },
          "metadata": {},
          "execution_count": 14
        }
      ],
      "source": [
        "Dataset"
      ]
    },
    {
      "cell_type": "code",
      "execution_count": 15,
      "metadata": {
        "colab": {
          "base_uri": "https://localhost:8080/"
        },
        "id": "crHPwQTGLcVq",
        "outputId": "e19561c4-3bf0-47df-e1be-1f21981720e1"
      },
      "outputs": [
        {
          "output_type": "stream",
          "name": "stdout",
          "text": [
            "(14552, 188, 1)\n"
          ]
        }
      ],
      "source": [
        "print(xx_train_gen.shape)"
      ]
    },
    {
      "cell_type": "code",
      "execution_count": 16,
      "metadata": {
        "id": "_AeIWGOzzfHG"
      },
      "outputs": [],
      "source": [
        "def action_model(shape=(188, 1), nbout=2):\n",
        "    \n",
        "    model= Sequential()\n",
        "\n",
        "    model.add(Conv1D(32,3,input_shape=shape,strides=1,padding='same', activation='relu'))\n",
        "    model.add(BatchNormalization())\n",
        "    model.add(Dropout(0.5))\n",
        "\n",
        "    #model.add(MaxPool1D(pool_size=2))\n",
        "    #model.add(BatchNormalization())\n",
        "    #model.add(Dropout(0.3))\n",
        "\n",
        "    model.add(Conv1D(64,5,strides=1,padding='same', activation='relu'))\n",
        "    model.add(BatchNormalization())\n",
        "    model.add(Dropout(0.5))\n",
        "\n",
        "    model.add(Conv1D(128,7,input_shape=shape,strides=1,padding='same', activation='relu'))\n",
        "    model.add(BatchNormalization())\n",
        "    model.add(Dropout(0.5))\n",
        "\n",
        "    model.add(Conv1D(256,9,input_shape=shape,strides=1,padding='same', activation='relu'))\n",
        "    model.add(BatchNormalization())\n",
        "    model.add(Dropout(0.5))\n",
        "\n",
        "    #model.add(MaxPool1D(pool_size=3))\n",
        "    #model.add(BatchNormalization())\n",
        "    #model.add(Dropout(0.3))\n",
        "    \n",
        "    model.add(Flatten())\n",
        "\n",
        "    #model.add(Dense(512, activation='relu'))\n",
        "    #model.add(BatchNormalization())\n",
        "    #model.add(Dropout(0.5))\n",
        "\n",
        "    model.add(Dense(512, activation='relu'))\n",
        "    model.add(BatchNormalization())\n",
        "    model.add(Dropout(0.5))\n",
        "    \n",
        "    model.add(Dense(256, activation='relu'))\n",
        "    model.add(BatchNormalization())\n",
        "    model.add(Dropout(0.5))\n",
        "\n",
        "    model.add(Dense(128, activation='relu'))\n",
        "    model.add(BatchNormalization())\n",
        "    model.add(Dropout(0.5))\n",
        "\n",
        "    model.add(Dense(64, activation='relu'))\n",
        "    model.add(BatchNormalization())\n",
        "    model.add(Dropout(0.5))\n",
        "\n",
        "    model.add(Dense(32, activation='relu'))\n",
        "    model.add(BatchNormalization())\n",
        "    model.add(Dropout(0.5))\n",
        "\n",
        "    model.add(Dense(nbout, activation='sigmoid'))\n",
        "    return model"
      ]
    },
    {
      "cell_type": "code",
      "execution_count": 17,
      "metadata": {
        "id": "xN100am75ZRr"
      },
      "outputs": [],
      "source": [
        "signal_dim = (188,1)\n",
        "classes = 2\n",
        "INPUT_SHAPE=signal_dim\n",
        "model = action_model(INPUT_SHAPE, 2)\n",
        "optimizer = tf.keras.optimizers.Adamax(0.0001)"
      ]
    },
    {
      "cell_type": "code",
      "execution_count": 18,
      "metadata": {
        "colab": {
          "base_uri": "https://localhost:8080/"
        },
        "id": "etsmLp1SM6ZK",
        "outputId": "275fc124-c41c-4920-fb13-336178c68e0e"
      },
      "outputs": [
        {
          "output_type": "stream",
          "name": "stdout",
          "text": [
            "Epoch 1/12\n",
            "364/364 [==============================] - 21s 44ms/step - loss: 1.0736 - accuracy: 0.5365 - val_loss: 0.5992 - val_accuracy: 1.0000\n",
            "Epoch 2/12\n",
            "364/364 [==============================] - 15s 41ms/step - loss: 0.9096 - accuracy: 0.5878 - val_loss: 0.5815 - val_accuracy: 0.8966\n",
            "Epoch 3/12\n",
            "364/364 [==============================] - 15s 41ms/step - loss: 0.7747 - accuracy: 0.6334 - val_loss: 0.5762 - val_accuracy: 0.8193\n",
            "Epoch 4/12\n",
            "364/364 [==============================] - 15s 41ms/step - loss: 0.6629 - accuracy: 0.6834 - val_loss: 0.6443 - val_accuracy: 0.6510\n",
            "Epoch 5/12\n",
            "364/364 [==============================] - 15s 41ms/step - loss: 0.5526 - accuracy: 0.7395 - val_loss: 0.6405 - val_accuracy: 0.6812\n",
            "Epoch 6/12\n",
            "364/364 [==============================] - 15s 41ms/step - loss: 0.4649 - accuracy: 0.7813 - val_loss: 0.5022 - val_accuracy: 0.8543\n",
            "Epoch 7/12\n",
            "364/364 [==============================] - 15s 41ms/step - loss: 0.3771 - accuracy: 0.8313 - val_loss: 0.3422 - val_accuracy: 0.9584\n",
            "Epoch 8/12\n",
            "364/364 [==============================] - 15s 41ms/step - loss: 0.3103 - accuracy: 0.8687 - val_loss: 0.2890 - val_accuracy: 0.9849\n",
            "Epoch 9/12\n",
            "364/364 [==============================] - 15s 41ms/step - loss: 0.2621 - accuracy: 0.8938 - val_loss: 0.2215 - val_accuracy: 0.9904\n",
            "Epoch 10/12\n",
            "364/364 [==============================] - 15s 41ms/step - loss: 0.2234 - accuracy: 0.9144 - val_loss: 0.1787 - val_accuracy: 0.9962\n",
            "Epoch 11/12\n",
            "364/364 [==============================] - 15s 41ms/step - loss: 0.1855 - accuracy: 0.9341 - val_loss: 0.1114 - val_accuracy: 0.9986\n",
            "Epoch 12/12\n",
            "364/364 [==============================] - 15s 41ms/step - loss: 0.1487 - accuracy: 0.9522 - val_loss: 0.0845 - val_accuracy: 0.9997\n"
          ]
        }
      ],
      "source": [
        "model.compile(optimizer, loss='sparse_categorical_crossentropy', metrics=['accuracy'])\n",
        "history = model.fit(xx_train_gen, yy_train_gen, validation_split=0.2, epochs =12, batch_size =32, verbose = 1, shuffle = 1)"
      ]
    },
    {
      "cell_type": "code",
      "execution_count": 19,
      "metadata": {
        "colab": {
          "base_uri": "https://localhost:8080/",
          "height": 312
        },
        "id": "WZ9pN-Wn9-nl",
        "outputId": "2e1b3e2e-8d3b-4dcb-d57e-c0eb636c807e"
      },
      "outputs": [
        {
          "output_type": "execute_result",
          "data": {
            "text/plain": [
              "Text(0.5, 0, 'epoch')"
            ]
          },
          "metadata": {},
          "execution_count": 19
        },
        {
          "output_type": "display_data",
          "data": {
            "image/png": "[encoded data removed]",
            "text/plain": [
              "<Figure size 432x288 with 1 Axes>"
            ]
          },
          "metadata": {
            "needs_background": "light"
          }
        }
      ],
      "source": [
        "import matplotlib.pyplot as plt\n",
        "plt.plot(history.history['loss'])\n",
        "plt.plot(history.history['val_loss'])\n",
        "plt.legend(['loss','val_loss'])\n",
        "plt.title('Loss')\n",
        "plt.xlabel('epoch')"
      ]
    },
    {
      "cell_type": "code",
      "execution_count": 20,
      "metadata": {
        "colab": {
          "base_uri": "https://localhost:8080/",
          "height": 312
        },
        "id": "MyDTOqLX9-V6",
        "outputId": "871c6986-2f2e-4a86-8a84-4907e316ec84"
      },
      "outputs": [
        {
          "output_type": "execute_result",
          "data": {
            "text/plain": [
              "Text(0.5, 0, 'epoch')"
            ]
          },
          "metadata": {},
          "execution_count": 20
        },
        {
          "output_type": "display_data",
          "data": {
            "image/png": "[encoded data removed]",
            "text/plain": [
              "<Figure size 432x288 with 1 Axes>"
            ]
          },
          "metadata": {
            "needs_background": "light"
          }
        }
      ],
      "source": [
        "plt.plot(history.history['accuracy'])\n",
        "plt.plot(history.history['val_accuracy'])\n",
        "plt.legend(['accuracy','val_accuracy'])\n",
        "plt.title('Accuracy')\n",
        "plt.xlabel('epoch')"
      ]
    },
    {
      "cell_type": "code",
      "execution_count": 21,
      "metadata": {
        "colab": {
          "base_uri": "https://localhost:8080/"
        },
        "id": "BUbTC_jeInN5",
        "outputId": "4e32929e-7fc2-43a4-de58-1ae97a3544b9"
      },
      "outputs": [
        {
          "output_type": "stream",
          "name": "stdout",
          "text": [
            "Model: \"sequential\"\n",
            "_________________________________________________________________\n",
            " Layer (type)                Output Shape              Param #   \n",
            "=================================================================\n",
            " conv1d (Conv1D)             (None, 188, 32)           128       \n",
            "                                                                 \n",
            " batch_normalization (BatchN  (None, 188, 32)          128       \n",
            " ormalization)                                                   \n",
            "                                                                 \n",
            " dropout (Dropout)           (None, 188, 32)           0         \n",
            "                                                                 \n",
            " conv1d_1 (Conv1D)           (None, 188, 64)           10304     \n",
            "                                                                 \n",
            " batch_normalization_1 (Batc  (None, 188, 64)          256       \n",
            " hNormalization)                                                 \n",
            "                                                                 \n",
            " dropout_1 (Dropout)         (None, 188, 64)           0         \n",
            "                                                                 \n",
            " conv1d_2 (Conv1D)           (None, 188, 128)          57472     \n",
            "                                                                 \n",
            " batch_normalization_2 (Batc  (None, 188, 128)         512       \n",
            " hNormalization)                                                 \n",
            "                                                                 \n",
            " dropout_2 (Dropout)         (None, 188, 128)          0         \n",
            "                                                                 \n",
            " conv1d_3 (Conv1D)           (None, 188, 256)          295168    \n",
            "                                                                 \n",
            " batch_normalization_3 (Batc  (None, 188, 256)         1024      \n",
            " hNormalization)                                                 \n",
            "                                                                 \n",
            " dropout_3 (Dropout)         (None, 188, 256)          0         \n",
            "                                                                 \n",
            " flatten (Flatten)           (None, 48128)             0         \n",
            "                                                                 \n",
            " dense (Dense)               (None, 512)               24642048  \n",
            "                                                                 \n",
            " batch_normalization_4 (Batc  (None, 512)              2048      \n",
            " hNormalization)                                                 \n",
            "                                                                 \n",
            " dropout_4 (Dropout)         (None, 512)               0         \n",
            "                                                                 \n",
            " dense_1 (Dense)             (None, 256)               131328    \n",
            "                                                                 \n",
            " batch_normalization_5 (Batc  (None, 256)              1024      \n",
            " hNormalization)                                                 \n",
            "                                                                 \n",
            " dropout_5 (Dropout)         (None, 256)               0         \n",
            "                                                                 \n",
            " dense_2 (Dense)             (None, 128)               32896     \n",
            "                                                                 \n",
            " batch_normalization_6 (Batc  (None, 128)              512       \n",
            " hNormalization)                                                 \n",
            "                                                                 \n",
            " dropout_6 (Dropout)         (None, 128)               0         \n",
            "                                                                 \n",
            " dense_3 (Dense)             (None, 64)                8256      \n",
            "                                                                 \n",
            " batch_normalization_7 (Batc  (None, 64)               256       \n",
            " hNormalization)                                                 \n",
            "                                                                 \n",
            " dropout_7 (Dropout)         (None, 64)                0         \n",
            "                                                                 \n",
            " dense_4 (Dense)             (None, 32)                2080      \n",
            "                                                                 \n",
            " batch_normalization_8 (Batc  (None, 32)               128       \n",
            " hNormalization)                                                 \n",
            "                                                                 \n",
            " dropout_8 (Dropout)         (None, 32)                0         \n",
            "                                                                 \n",
            " dense_5 (Dense)             (None, 2)                 66        \n",
            "                                                                 \n",
            "=================================================================\n",
            "Total params: 25,185,634\n",
            "Trainable params: 25,182,690\n",
            "Non-trainable params: 2,944\n",
            "_________________________________________________________________\n",
            "None\n"
          ]
        }
      ],
      "source": [
        "print(model.summary())"
      ]
    },
    {
      "cell_type": "code",
      "source": [
        "import json\n",
        "\n",
        "# lets assume `model` is main model \n",
        "model_json = model.to_json()\n",
        "with open(\"model_in_json_KHALED.json\", \"w\") as json_file:\n",
        "    json.dump(model_json, json_file)\n",
        "\n",
        "model.save_weights(\"ECG_Model.h5\")"
      ],
      "metadata": {
        "id": "kRy6p9793V4c"
      },
      "execution_count": 22,
      "outputs": []
    }
  ],
  "metadata": {
    "accelerator": "GPU",
    "colab": {
      "collapsed_sections": [],
      "name": "ECG",
      "provenance": [],
      "authorship_tag": "ABX9TyNGZlFqqRW91SaS0/c9ohb8",
      "include_colab_link": true
    },
    "kernelspec": {
      "display_name": "Python 3",
      "name": "python3"
    },
    "language_info": {
      "name": "python"
    }
  },
  "nbformat": 4,
  "nbformat_minor": 0
}