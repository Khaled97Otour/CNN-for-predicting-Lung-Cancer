{
 "cells": [
  {
   "cell_type": "markdown",
   "metadata": {},
   "source": [
    "## In this code I design a CNN model to predict whether the input image normal or Abnormal\n",
    "\n",
    "- The data has been collected from local hospitals and medical clinic \n",
    "- The model have only two classes Normal = 0 , Abnormal =1\n",
    "- The model could not predict more than two classes due to small dataset"
   ]
  },
  {
   "cell_type": "code",
   "execution_count": 1,
   "metadata": {},
   "outputs": [
    {
     "name": "stderr",
     "output_type": "stream",
     "text": [
      "Using TensorFlow backend.\n"
     ]
    }
   ],
   "source": [
    "import numpy as np\n",
    "import matplotlib.pyplot as plt\n",
    "import matplotlib.image as mpimg\n",
    "import keras\n",
    "from keras.models import Sequential\n",
    "from keras.models import load_model\n",
    "#from imgaug import augmenters as iaa\n",
    "from keras.optimizers import Adam\n",
    "from keras.layers import Dense\n",
    "from keras.layers import Flatten, Dropout\n",
    "from keras.utils.np_utils import to_categorical\n",
    "from keras.layers.convolutional import Conv2D, MaxPooling2D,Convolution2D\n",
    "from sklearn.model_selection import train_test_split\n",
    "import random\n",
    "#import pickle\n",
    "import pandas as pd\n",
    "import cv2\n",
    "import os\n",
    "#import skimage\n",
    " \n",
    "#from keras.callbacks import LearningRateScheduler, ModelCheckpoint\n",
    " \n",
    "%matplotlib inline\n",
    "np.random.seed(0)"
   ]
  },
  {
   "cell_type": "markdown",
   "metadata": {},
   "source": [
    "## First I have to Create the dataset by the following steps :\n",
    "\n",
    "1. Creating two list for both the image name and the lebels.\n",
    "1. I build the dataset using pandas (pd.Series(data=my_img)).\n",
    "1. By using the image name I could add the path therefor I could read the images. \n",
    "1. img_preprocess was created to pre process the images by reshape theme and add noise.\n",
    "1. Converting the two list into Arrays."
   ]
  },
  {
   "cell_type": "code",
   "execution_count": 2,
   "metadata": {},
   "outputs": [],
   "source": [
    "def do_dataset(x,y):\n",
    "    my_img=[]\n",
    "    my_label=[]\n",
    "    for i in range(x):\n",
    "        my_img.append('x{}.jpg'.format((i+1)))\n",
    "        my_label.append(0)\n",
    "    for i in range(y):\n",
    "        my_img.append('y{}.jpg'.format((i+1)))\n",
    "        my_label.append(1)\n",
    "    return my_img,my_label"
   ]
  },
  {
   "cell_type": "code",
   "execution_count": 3,
   "metadata": {},
   "outputs": [],
   "source": [
    "my_img,my_label=do_dataset(212,204)"
   ]
  },
  {
   "cell_type": "code",
   "execution_count": 4,
   "metadata": {},
   "outputs": [
    {
     "data": {
      "text/html": [
       "<div>\n",
       "<style scoped>\n",
       "    .dataframe tbody tr th:only-of-type {\n",
       "        vertical-align: middle;\n",
       "    }\n",
       "\n",
       "    .dataframe tbody tr th {\n",
       "        vertical-align: top;\n",
       "    }\n",
       "\n",
       "    .dataframe thead th {\n",
       "        text-align: right;\n",
       "    }\n",
       "</style>\n",
       "<table border=\"1\" class=\"dataframe\">\n",
       "  <thead>\n",
       "    <tr style=\"text-align: right;\">\n",
       "      <th></th>\n",
       "      <th>0</th>\n",
       "      <th>label</th>\n",
       "    </tr>\n",
       "  </thead>\n",
       "  <tbody>\n",
       "    <tr>\n",
       "      <th>0</th>\n",
       "      <td>x1.jpg</td>\n",
       "      <td>0</td>\n",
       "    </tr>\n",
       "    <tr>\n",
       "      <th>1</th>\n",
       "      <td>x2.jpg</td>\n",
       "      <td>0</td>\n",
       "    </tr>\n",
       "    <tr>\n",
       "      <th>2</th>\n",
       "      <td>x3.jpg</td>\n",
       "      <td>0</td>\n",
       "    </tr>\n",
       "    <tr>\n",
       "      <th>3</th>\n",
       "      <td>x4.jpg</td>\n",
       "      <td>0</td>\n",
       "    </tr>\n",
       "    <tr>\n",
       "      <th>4</th>\n",
       "      <td>x5.jpg</td>\n",
       "      <td>0</td>\n",
       "    </tr>\n",
       "    <tr>\n",
       "      <th>...</th>\n",
       "      <td>...</td>\n",
       "      <td>...</td>\n",
       "    </tr>\n",
       "    <tr>\n",
       "      <th>411</th>\n",
       "      <td>y200.jpg</td>\n",
       "      <td>1</td>\n",
       "    </tr>\n",
       "    <tr>\n",
       "      <th>412</th>\n",
       "      <td>y201.jpg</td>\n",
       "      <td>1</td>\n",
       "    </tr>\n",
       "    <tr>\n",
       "      <th>413</th>\n",
       "      <td>y202.jpg</td>\n",
       "      <td>1</td>\n",
       "    </tr>\n",
       "    <tr>\n",
       "      <th>414</th>\n",
       "      <td>y203.jpg</td>\n",
       "      <td>1</td>\n",
       "    </tr>\n",
       "    <tr>\n",
       "      <th>415</th>\n",
       "      <td>y204.jpg</td>\n",
       "      <td>1</td>\n",
       "    </tr>\n",
       "  </tbody>\n",
       "</table>\n",
       "<p>416 rows × 2 columns</p>\n",
       "</div>"
      ],
      "text/plain": [
       "            0  label\n",
       "0      x1.jpg      0\n",
       "1      x2.jpg      0\n",
       "2      x3.jpg      0\n",
       "3      x4.jpg      0\n",
       "4      x5.jpg      0\n",
       "..        ...    ...\n",
       "411  y200.jpg      1\n",
       "412  y201.jpg      1\n",
       "413  y202.jpg      1\n",
       "414  y203.jpg      1\n",
       "415  y204.jpg      1\n",
       "\n",
       "[416 rows x 2 columns]"
      ]
     },
     "execution_count": 4,
     "metadata": {},
     "output_type": "execute_result"
    }
   ],
   "source": [
    "my_series=pd.Series(data=my_img)\n",
    "data=pd.DataFrame(my_series)\n",
    "data['label']=my_label\n",
    "data"
   ]
  },
  {
   "cell_type": "code",
   "execution_count": 5,
   "metadata": {},
   "outputs": [],
   "source": [
    "def load_img_label(datadir, df):\n",
    "  image_path = []\n",
    "  label = []\n",
    "  for i in range(len(df)):\n",
    "    indexed_data = data.iloc[i]\n",
    "    img = indexed_data[0]\n",
    "    image_path.append(os.path.join(datadir, img.strip()))\n",
    "    label.append(indexed_data['label'])\n",
    "  image_paths = np.asarray(image_path)\n",
    "  label = np.asarray(label)\n",
    "  return image_paths, label"
   ]
  },
  {
   "cell_type": "code",
   "execution_count": 6,
   "metadata": {},
   "outputs": [],
   "source": [
    "def img_preprocess(img):\n",
    "    \n",
    "    img = cv2.cvtColor(img, cv2.COLOR_RGB2GRAY)\n",
    "    #imgcv2.GaussianBlur(img,  (3, 3), 0)\n",
    "    img = cv2.resize(img, (155, 155))\n",
    "    img = img[40:120,40:120]\n",
    "    img = img/255\n",
    "    return img"
   ]
  },
  {
   "cell_type": "code",
   "execution_count": 7,
   "metadata": {},
   "outputs": [],
   "source": [
    "def data_gen(image_paths, label_ang):\n",
    "\n",
    "    batch_img = []\n",
    "    batch_label = []\n",
    "    \n",
    "    for i in range(len(image_paths)):\n",
    "      im=mpimg.imread(image_paths[i])\n",
    "      im=img_preprocess(im)  \n",
    "      im = np.expand_dims(im, axis=-1)\n",
    "      labell =label[i]\n",
    "      batch_img.append(im)\n",
    "      batch_label.append(labell)\n",
    "      A=np.asarray(batch_img)\n",
    "      B=np.asarray(batch_label)\n",
    "    return A,B"
   ]
  },
  {
   "cell_type": "code",
   "execution_count": 8,
   "metadata": {},
   "outputs": [],
   "source": [
    "image_paths, label = load_img_label('' , data)\n",
    "xx_train_gen, yy_train_gen = data_gen(image_paths, label)"
   ]
  },
  {
   "cell_type": "markdown",
   "metadata": {},
   "source": [
    "### As a result we creat a traning set for the images and lebels  \n",
    "the numbers from the xx_train_gen are as follow :\n",
    "- 416 the number of the images \n",
    "- 80 , 80 is the image shape \n",
    "- 1 is the number of the channel "
   ]
  },
  {
   "cell_type": "code",
   "execution_count": 10,
   "metadata": {},
   "outputs": [
    {
     "name": "stdout",
     "output_type": "stream",
     "text": [
      "(416, 80, 80, 1)\n"
     ]
    }
   ],
   "source": [
    "print(xx_train_gen.shape)"
   ]
  },
  {
   "cell_type": "markdown",
   "metadata": {},
   "source": [
    "### The CNN model that I create is basic sequential model using Conv2D and Maxpooling2D and fully connected layers.\n",
    "- I use the Adam compiler to measure the Accuracy and loss.\n",
    "- For validation I split the data 5 % from the total dataset."
   ]
  },
  {
   "cell_type": "code",
   "execution_count": 11,
   "metadata": {},
   "outputs": [],
   "source": [
    "def modified_model():\n",
    "  model = Sequential()\n",
    "  model.add(Conv2D(60, (5, 5), input_shape=(80, 80, 1), activation='relu'))\n",
    "  model.add(MaxPooling2D(pool_size=(2, 2)))\n",
    "  \n",
    "  model.add(Conv2D(30, (3, 3), activation='relu'))\n",
    "  model.add(MaxPooling2D(pool_size=(2, 2)))\n",
    "  \n",
    "  model.add(Flatten())\n",
    "  model.add(Dense(250, activation='relu'))\n",
    "  model.add(Dropout(0.5))\n",
    "  model.add(Dense(2, activation='softmax'))\n",
    "  \n",
    "  model.compile(Adam(lr = 0.001), loss='sparse_categorical_crossentropy', metrics=['accuracy'])\n",
    "  return model"
   ]
  },
  {
   "cell_type": "code",
   "execution_count": 15,
   "metadata": {},
   "outputs": [
    {
     "name": "stdout",
     "output_type": "stream",
     "text": [
      "Model: \"sequential_4\"\n",
      "_________________________________________________________________\n",
      "Layer (type)                 Output Shape              Param #   \n",
      "=================================================================\n",
      "conv2d_7 (Conv2D)            (None, 76, 76, 60)        1560      \n",
      "_________________________________________________________________\n",
      "max_pooling2d_7 (MaxPooling2 (None, 38, 38, 60)        0         \n",
      "_________________________________________________________________\n",
      "conv2d_8 (Conv2D)            (None, 36, 36, 30)        16230     \n",
      "_________________________________________________________________\n",
      "max_pooling2d_8 (MaxPooling2 (None, 18, 18, 30)        0         \n",
      "_________________________________________________________________\n",
      "flatten_4 (Flatten)          (None, 9720)              0         \n",
      "_________________________________________________________________\n",
      "dense_7 (Dense)              (None, 250)               2430250   \n",
      "_________________________________________________________________\n",
      "dropout_4 (Dropout)          (None, 250)               0         \n",
      "_________________________________________________________________\n",
      "dense_8 (Dense)              (None, 2)                 502       \n",
      "=================================================================\n",
      "Total params: 2,448,542\n",
      "Trainable params: 2,448,542\n",
      "Non-trainable params: 0\n",
      "_________________________________________________________________\n",
      "None\n",
      "Train on 395 samples, validate on 21 samples\n",
      "Epoch 1/18\n",
      "395/395 [==============================] - 8s 21ms/step - loss: 0.7383 - accuracy: 0.5089 - val_loss: 0.6965 - val_accuracy: 0.0952\n",
      "Epoch 2/18\n",
      "395/395 [==============================] - 8s 20ms/step - loss: 0.6918 - accuracy: 0.5494 - val_loss: 0.7314 - val_accuracy: 0.0000e+00\n",
      "Epoch 3/18\n",
      "395/395 [==============================] - 8s 20ms/step - loss: 0.6874 - accuracy: 0.5316 - val_loss: 0.6441 - val_accuracy: 1.0000\n",
      "Epoch 4/18\n",
      "395/395 [==============================] - 8s 21ms/step - loss: 0.6684 - accuracy: 0.6430 - val_loss: 0.7279 - val_accuracy: 0.2857\n",
      "Epoch 5/18\n",
      "395/395 [==============================] - 8s 20ms/step - loss: 0.6071 - accuracy: 0.6785 - val_loss: 0.8213 - val_accuracy: 0.2381\n",
      "Epoch 6/18\n",
      "395/395 [==============================] - 8s 19ms/step - loss: 0.6004 - accuracy: 0.6785 - val_loss: 0.7118 - val_accuracy: 0.7619\n",
      "Epoch 7/18\n",
      "395/395 [==============================] - 8s 21ms/step - loss: 0.5738 - accuracy: 0.7620 - val_loss: 0.5204 - val_accuracy: 0.9048\n",
      "Epoch 8/18\n",
      "395/395 [==============================] - 8s 20ms/step - loss: 0.5014 - accuracy: 0.7671 - val_loss: 0.4050 - val_accuracy: 0.8571\n",
      "Epoch 9/18\n",
      "395/395 [==============================] - 8s 20ms/step - loss: 0.3968 - accuracy: 0.8456 - val_loss: 0.4272 - val_accuracy: 0.8571\n",
      "Epoch 10/18\n",
      "395/395 [==============================] - 8s 20ms/step - loss: 0.3447 - accuracy: 0.8709 - val_loss: 0.2357 - val_accuracy: 0.9048\n",
      "Epoch 11/18\n",
      "395/395 [==============================] - 8s 20ms/step - loss: 0.2416 - accuracy: 0.9241 - val_loss: 0.1184 - val_accuracy: 0.9524\n",
      "Epoch 12/18\n",
      "395/395 [==============================] - 8s 20ms/step - loss: 0.1923 - accuracy: 0.9291 - val_loss: 0.1828 - val_accuracy: 0.9048\n",
      "Epoch 13/18\n",
      "395/395 [==============================] - 8s 20ms/step - loss: 0.1471 - accuracy: 0.9392 - val_loss: 0.0261 - val_accuracy: 1.0000\n",
      "Epoch 14/18\n",
      "395/395 [==============================] - 8s 20ms/step - loss: 0.1254 - accuracy: 0.9595 - val_loss: 0.0483 - val_accuracy: 1.0000\n",
      "Epoch 15/18\n",
      "395/395 [==============================] - 8s 20ms/step - loss: 0.0857 - accuracy: 0.9722 - val_loss: 0.0122 - val_accuracy: 1.0000\n",
      "Epoch 16/18\n",
      "395/395 [==============================] - 8s 20ms/step - loss: 0.0655 - accuracy: 0.9873 - val_loss: 0.0385 - val_accuracy: 1.0000\n",
      "Epoch 17/18\n",
      "395/395 [==============================] - 8s 20ms/step - loss: 0.0464 - accuracy: 0.9924 - val_loss: 0.0110 - val_accuracy: 1.0000\n",
      "Epoch 18/18\n",
      "395/395 [==============================] - 8s 20ms/step - loss: 0.0455 - accuracy: 0.9873 - val_loss: 0.0188 - val_accuracy: 1.0000\n"
     ]
    }
   ],
   "source": [
    "model = modified_model()\n",
    "print(model.summary())\n",
    "history = model.fit(xx_train_gen, yy_train_gen, validation_split=0.05, epochs =18, batch_size =20, verbose = 1, shuffle = 1)"
   ]
  },
  {
   "cell_type": "code",
   "execution_count": 16,
   "metadata": {},
   "outputs": [],
   "source": [
    "import json\n",
    "\n",
    "# lets assume `model` is main model \n",
    "model_json = model.to_json()\n",
    "with open(\"model_in_json_KHALED.json\", \"w\") as json_file:\n",
    "    json.dump(model_json, json_file)\n",
    "\n",
    "model.save_weights(\"khaledMODEL.h5\")"
   ]
  },
  {
   "cell_type": "code",
   "execution_count": 17,
   "metadata": {},
   "outputs": [],
   "source": [
    "import json\n",
    "from keras.models import load_model\n",
    "from keras.models import model_from_json\n",
    "with open('model_in_json_KHALED.json','r') as f:\n",
    "    model_json = json.load(f)\n",
    "\n",
    "model = model_from_json(model_json)\n",
    "model.load_weights('khaledMODEL.h5')"
   ]
  },
  {
   "cell_type": "markdown",
   "metadata": {},
   "source": [
    "### The model was fit very well , and the following plots were the results of the accuracy and loss :\n",
    "- the resulting plot was having peaks resulting from the low number of data."
   ]
  },
  {
   "cell_type": "code",
   "execution_count": 18,
   "metadata": {},
   "outputs": [
    {
     "data": {
      "text/plain": [
       "Text(0.5, 0, 'epoch')"
      ]
     },
     "execution_count": 18,
     "metadata": {},
     "output_type": "execute_result"
    },
    {
     "data": {
      "image/png": "[encoded data removed]",
      "text/plain": [
       "<Figure size 432x288 with 1 Axes>"
      ]
     },
     "metadata": {
      "needs_background": "light"
     },
     "output_type": "display_data"
    }
   ],
   "source": [
    "plt.plot(history.history['loss'])\n",
    "plt.plot(history.history['val_loss'])\n",
    "plt.title('Loss')\n",
    "plt.xlabel('epoch')"
   ]
  },
  {
   "cell_type": "code",
   "execution_count": 19,
   "metadata": {},
   "outputs": [
    {
     "data": {
      "text/plain": [
       "Text(0.5, 0, 'epoch')"
      ]
     },
     "execution_count": 19,
     "metadata": {},
     "output_type": "execute_result"
    },
    {
     "data": {
      "image/png": "[encoded data removed]",
      "text/plain": [
       "<Figure size 432x288 with 1 Axes>"
      ]
     },
     "metadata": {
      "needs_background": "light"
     },
     "output_type": "display_data"
    }
   ],
   "source": [
    "plt.plot(history.history['accuracy'])\n",
    "plt.plot(history.history['val_accuracy'])\n",
    "plt.legend(['training','test'])\n",
    "plt.title('Accuracy')\n",
    "plt.xlabel('epoch')"
   ]
  },
  {
   "cell_type": "code",
   "execution_count": 20,
   "metadata": {},
   "outputs": [],
   "source": [
    "def count_error_class(x):\n",
    "    error=0\n",
    "    img_error=[]\n",
    "    for i in range(x):\n",
    "        im=mpimg.imread(image_paths[i])\n",
    "        im=img_preprocess(im)\n",
    "        im = np.expand_dims(im, axis=-1)\n",
    "        im = np.expand_dims(im, axis=0)\n",
    "        if model.predict_classes(im)!=my_label[i]:\n",
    "            error=error+1\n",
    "            path1=image_paths[i]\n",
    "            img_error.append(path1)\n",
    "    return error,img_error"
   ]
  },
  {
   "cell_type": "code",
   "execution_count": 21,
   "metadata": {},
   "outputs": [
    {
     "data": {
      "text/plain": [
       "0"
      ]
     },
     "execution_count": 21,
     "metadata": {},
     "output_type": "execute_result"
    }
   ],
   "source": [
    "A,B=count_error_class(416)\n",
    "A"
   ]
  },
  {
   "cell_type": "markdown",
   "metadata": {},
   "source": [
    "# Testing the model "
   ]
  },
  {
   "cell_type": "code",
   "execution_count": 61,
   "metadata": {},
   "outputs": [
    {
     "name": "stdout",
     "output_type": "stream",
     "text": [
      "(80, 80)\n",
      "0.46155167\n",
      "[1]\n"
     ]
    },
    {
     "data": {
      "image/png": "[encoded data removed]",
      "text/plain": [
       "<Figure size 432x288 with 1 Axes>"
      ]
     },
     "metadata": {
      "needs_background": "light"
     },
     "output_type": "display_data"
    }
   ],
   "source": [
    "im=mpimg.imread('t13.jpg')\n",
    "\n",
    "im=img_preprocess(im)\n",
    "print(im.shape)\n",
    "\n",
    "plt.imshow(im)\n",
    "im = np.expand_dims(im, axis=-1)\n",
    "im = np.expand_dims(im, axis=0)\n",
    "            \n",
    "#print(\"predicted sign: \"+ str(model.predict_classes(im)))\n",
    "preds = model.predict(im)\n",
    "print(preds[0][0])\n",
    "print(model.predict_classes(im))"
   ]
  }
 ],
 "metadata": {
  "kernelspec": {
   "display_name": "Python 3",
   "language": "python",
   "name": "python3"
  },
  "language_info": {
   "codemirror_mode": {
    "name": "ipython",
    "version": 3
   },
   "file_extension": ".py",
   "mimetype": "text/x-python",
   "name": "python",
   "nbconvert_exporter": "python",
   "pygments_lexer": "ipython3",
   "version": "3.8.5"
  }
 },
 "nbformat": 4,
 "nbformat_minor": 1
}
