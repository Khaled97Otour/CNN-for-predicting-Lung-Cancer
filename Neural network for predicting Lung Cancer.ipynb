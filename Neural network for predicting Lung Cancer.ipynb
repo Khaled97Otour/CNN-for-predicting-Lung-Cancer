{
 "cells": [
  {
   "cell_type": "code",
   "execution_count": 1,
   "metadata": {},
   "outputs": [
    {
     "name": "stderr",
     "output_type": "stream",
     "text": [
      "Using TensorFlow backend.\n"
     ]
    }
   ],
   "source": [
    "import numpy as np\n",
    "import matplotlib.pyplot as plt\n",
    "import matplotlib.image as mpimg\n",
    "import keras\n",
    "from keras.models import Sequential\n",
    "from keras.models import load_model\n",
    "#from imgaug import augmenters as iaa\n",
    "from keras.optimizers import Adam\n",
    "from keras.layers import Dense\n",
    "from keras.layers import Flatten, Dropout\n",
    "from keras.utils.np_utils import to_categorical\n",
    "from keras.layers.convolutional import Conv2D, MaxPooling2D,Convolution2D\n",
    "from sklearn.model_selection import train_test_split\n",
    "import random\n",
    "#import pickle\n",
    "import pandas as pd\n",
    "import cv2\n",
    "import os\n",
    "#import skimage\n",
    " \n",
    "#from keras.callbacks import LearningRateScheduler, ModelCheckpoint\n",
    " \n",
    "%matplotlib inline\n",
    "np.random.seed(0)"
   ]
  },
  {
   "cell_type": "code",
   "execution_count": 2,
   "metadata": {},
   "outputs": [],
   "source": [
    "def do_dataset(x,y):\n",
    "    my_img=[]\n",
    "    my_label=[]\n",
    "    for i in range(x):\n",
    "        my_img.append('x{}.jpg'.format((i+1)))\n",
    "        my_label.append(0)\n",
    "    for i in range(y):\n",
    "        my_img.append('y{}.jpg'.format((i+1)))\n",
    "        my_label.append(1)\n",
    "    return my_img,my_label"
   ]
  },
  {
   "cell_type": "code",
   "execution_count": 3,
   "metadata": {},
   "outputs": [],
   "source": [
    "my_img,my_label=do_dataset(212,204)"
   ]
  },
  {
   "cell_type": "code",
   "execution_count": 4,
   "metadata": {},
   "outputs": [
    {
     "data": {
      "text/html": [
       "<div>\n",
       "<style scoped>\n",
       "    .dataframe tbody tr th:only-of-type {\n",
       "        vertical-align: middle;\n",
       "    }\n",
       "\n",
       "    .dataframe tbody tr th {\n",
       "        vertical-align: top;\n",
       "    }\n",
       "\n",
       "    .dataframe thead th {\n",
       "        text-align: right;\n",
       "    }\n",
       "</style>\n",
       "<table border=\"1\" class=\"dataframe\">\n",
       "  <thead>\n",
       "    <tr style=\"text-align: right;\">\n",
       "      <th></th>\n",
       "      <th>0</th>\n",
       "      <th>label</th>\n",
       "    </tr>\n",
       "  </thead>\n",
       "  <tbody>\n",
       "    <tr>\n",
       "      <th>0</th>\n",
       "      <td>x1.jpg</td>\n",
       "      <td>0</td>\n",
       "    </tr>\n",
       "    <tr>\n",
       "      <th>1</th>\n",
       "      <td>x2.jpg</td>\n",
       "      <td>0</td>\n",
       "    </tr>\n",
       "    <tr>\n",
       "      <th>2</th>\n",
       "      <td>x3.jpg</td>\n",
       "      <td>0</td>\n",
       "    </tr>\n",
       "    <tr>\n",
       "      <th>3</th>\n",
       "      <td>x4.jpg</td>\n",
       "      <td>0</td>\n",
       "    </tr>\n",
       "    <tr>\n",
       "      <th>4</th>\n",
       "      <td>x5.jpg</td>\n",
       "      <td>0</td>\n",
       "    </tr>\n",
       "    <tr>\n",
       "      <th>...</th>\n",
       "      <td>...</td>\n",
       "      <td>...</td>\n",
       "    </tr>\n",
       "    <tr>\n",
       "      <th>411</th>\n",
       "      <td>y200.jpg</td>\n",
       "      <td>1</td>\n",
       "    </tr>\n",
       "    <tr>\n",
       "      <th>412</th>\n",
       "      <td>y201.jpg</td>\n",
       "      <td>1</td>\n",
       "    </tr>\n",
       "    <tr>\n",
       "      <th>413</th>\n",
       "      <td>y202.jpg</td>\n",
       "      <td>1</td>\n",
       "    </tr>\n",
       "    <tr>\n",
       "      <th>414</th>\n",
       "      <td>y203.jpg</td>\n",
       "      <td>1</td>\n",
       "    </tr>\n",
       "    <tr>\n",
       "      <th>415</th>\n",
       "      <td>y204.jpg</td>\n",
       "      <td>1</td>\n",
       "    </tr>\n",
       "  </tbody>\n",
       "</table>\n",
       "<p>416 rows × 2 columns</p>\n",
       "</div>"
      ],
     "execution_count": 4,
     "metadata": {},
     "output_type": "execute_result"
    }
   ],
   "source": [
    "my_series=pd.Series(data=my_img)\n",
    "data=pd.DataFrame(my_series)\n",
    "data['label']=my_label\n",
    "data"
   ]
  },
  {
   "cell_type": "code",
   "execution_count": 5,
   "metadata": {},
   "outputs": [],
   "source": [
    "def load_img_label(datadir, df):\n",
    "  image_path = []\n",
    "  label = []\n",
    "  for i in range(len(df)):\n",
    "    indexed_data = data.iloc[i]\n",
    "    img = indexed_data[0]\n",
    "    image_path.append(os.path.join(datadir, img.strip()))\n",
    "    label.append(indexed_data['label'])\n",
    "  image_paths = np.asarray(image_path)\n",
    "  label = np.asarray(label)\n",
    "  return image_paths, label"
   ]
  },
  {
   "cell_type": "code",
   "execution_count": 6,
   "metadata": {},
   "outputs": [],
   "source": [
    "def img_preprocess(img):\n",
    "    \n",
    "    img = cv2.cvtColor(img, cv2.COLOR_RGB2GRAY)\n",
    "    #imgcv2.GaussianBlur(img,  (3, 3), 0)\n",
    "    img = cv2.resize(img, (155, 155))\n",
    "    img = img[40:120,40:120]\n",
    "    img = img/255\n",
    "    return img"
   ]
  },
  {
   "cell_type": "code",
   "execution_count": 7,
   "metadata": {},
   "outputs": [],
   "source": [
    "def data_gen(image_paths, label_ang):\n",
    "\n",
    "    batch_img = []\n",
    "    batch_label = []\n",
    "    \n",
    "    for i in range(len(image_paths)):\n",
    "      im=mpimg.imread(image_paths[i])\n",
    "      im=img_preprocess(im)  \n",
    "      im = np.expand_dims(im, axis=-1)\n",
    "      labell =label[i]\n",
    "      batch_img.append(im)\n",
    "      batch_label.append(labell)\n",
    "      A=np.asarray(batch_img)\n",
    "      B=np.asarray(batch_label)\n",
    "    return A,B"
   ]
  },
  {
   "cell_type": "code",
   "execution_count": 8,
   "metadata": {},
   "outputs": [],
   "source": [
    "image_paths, label = load_img_label('' , data)\n",
    "xx_train_gen, yy_train_gen = data_gen(image_paths, label)"
   ]
  },
   "source": [
    "print(xx_train_gen.shape)"
   ]
  },
  {
   "cell_type": "code",
   "execution_count": 11,
   "metadata": {},
   "outputs": [],
   "source": [
    "def modified_model():\n",
    "  model = Sequential()\n",
    "  model.add(Conv2D(60, (5, 5), input_shape=(80, 80, 1), activation='relu'))\n",
    "  model.add(MaxPooling2D(pool_size=(2, 2)))\n",
    "  \n",
    "  model.add(Conv2D(30, (3, 3), activation='relu'))\n",
    "  model.add(MaxPooling2D(pool_size=(2, 2)))\n",
    "  \n",
    "  model.add(Flatten())\n",
    "  model.add(Dense(250, activation='relu'))\n",
    "  model.add(Dropout(0.5))\n",
    "  model.add(Dense(2, activation='softmax'))\n",
    "  \n",
    "  model.compile(Adam(lr = 0.001), loss='sparse_categorical_crossentropy', metrics=['accuracy'])\n",
    "  return model"
   ]
  },
  {
   "cell_type": "code",
   "execution_count": 15,
   "metadata": {},
   "outputs": [
    {
     "name": "stdout",
     "output_type": "stream",
   "source": [
    "model = modified_model()\n",
    "print(model.summary())\n",
    "history = model.fit(xx_train_gen, yy_train_gen, validation_split=0.05, epochs =18, batch_size =20, verbose = 1, shuffle = 1)"
   ]
  },
  {
   "cell_type": "code",
   "execution_count": 16,
   "metadata": {},
   "outputs": [],
   "source": [
    "import json\n",
    "\n",
    "# lets assume `model` is main model \n",
    "model_json = model.to_json()\n",
    "with open(\"model_in_json_KHALED.json\", \"w\") as json_file:\n",
    "    json.dump(model_json, json_file)\n",
    "\n",
    "model.save_weights(\"khaledMODEL.h5\")"
   ]
  },
  {
   "cell_type": "code",
   "execution_count": 17,
   "metadata": {},
   "outputs": [],
   "source": [
    "import json\n",
    "from keras.models import load_model\n",
    "from keras.models import model_from_json\n",
    "with open('model_in_json_KHALED.json','r') as f:\n",
    "    model_json = json.load(f)\n",
    "\n",
    "model = model_from_json(model_json)\n",
    "model.load_weights('khaledMODEL.h5')"
   ]
  },
  {
   "cell_type": "markdown",
   "metadata": {},
   "source": [
   ]
  },
  {
   "cell_type": "code",
   "execution_count": 18,
   "metadata": {},
   "outputs": [
    {
     "data": {
      "text/plain": [
       "Text(0.5, 0, 'epoch')"
      ]
     },
     "execution_count": 18,
     "metadata": {},
     "output_type": "execute_result"
    },
  {
   "cell_type": "code",
   "execution_count": 20,
   "metadata": {},
   "outputs": [],
   "source": [
    "def count_error_class(x):\n",
    "    error=0\n",
    "    img_error=[]\n",
    "    for i in range(x):\n",
    "        im=mpimg.imread(image_paths[i])\n",
    "        im=img_preprocess(im)\n",
    "        im = np.expand_dims(im, axis=-1)\n",
    "        im = np.expand_dims(im, axis=0)\n",
    "        if model.predict_classes(im)!=my_label[i]:\n",
    "            error=error+1\n",
    "            path1=image_paths[i]\n",
    "            img_error.append(path1)\n",
    "    return error,img_error"
   ]
  },
  {
   "cell_type": "code",
   "execution_count": 21,
   "metadata": {},
   "outputs": [
    {
     "data": {
      "text/plain": [
       "0"
      ]
     },
     "execution_count": 21,
     "metadata": {},
     "output_type": "execute_result"
    }
   ],
   "source": [
    "A,B=count_error_class(416)\n",
    "A"
   ]
  },
  {
   "cell_type": "markdown",
   "metadata": {},
   "source": [
    "# Testing the model "
   ]
  },
  {
   "cell_type": "code",
   "execution_count": 61,
   "metadata": {},
   "outputs": [
    {
     "name": "stdout",
     "output_type": "stream",
     "text": [
      "(80, 80)\n",
      "0.46155167\n",
      "[1]\n"
     ]
    },
    {
     "data": {
      "image/png": "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\n",
      "text/plain": [
       "<Figure size 432x288 with 1 Axes>"
      ]
     },
     "metadata": {
      "needs_background": "light"
     },
     "output_type": "display_data"
    }
   ],
   "source": [
    "im=mpimg.imread('t13.jpg')\n",
    "\n",
    "im=img_preprocess(im)\n",
    "print(im.shape)\n",
    "\n",
    "plt.imshow(im)\n",
    "im = np.expand_dims(im, axis=-1)\n",
    "im = np.expand_dims(im, axis=0)\n",
    "            \n",
    "#print(\"predicted sign: \"+ str(model.predict_classes(im)))\n",
    "preds = model.predict(im)\n",
    "print(preds[0][0])\n",
    "print(model.predict_classes(im))"
   ]
  }
 ],
 "metadata": {
  "kernelspec": {
   "display_name": "Python 3",
   "language": "python",
   "name": "python3"
  },
  "language_info": {
   "codemirror_mode": {
    "name": "ipython",
    "version": 3
   },
   "file_extension": ".py",
   "mimetype": "text/x-python",
   "name": "python",
   "nbconvert_exporter": "python",
   "pygments_lexer": "ipython3",
   "version": "3.8.5"
  }
 },
 "nbformat": 4,
 "nbformat_minor": 1
}
